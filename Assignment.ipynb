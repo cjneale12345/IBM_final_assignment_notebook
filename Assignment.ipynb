{
  "metadata": {
    "language_info": {
      "codemirror_mode": {
        "name": "python",
        "version": 3
      },
      "file_extension": ".py",
      "mimetype": "text/x-python",
      "name": "python",
      "nbconvert_exporter": "python",
      "pygments_lexer": "ipython3",
      "version": "3.8"
    },
    "kernelspec": {
      "name": "python",
      "display_name": "Pyolite",
      "language": "python"
    }
  },
  "nbformat_minor": 4,
  "nbformat": 4,
  "cells": [
    {
      "cell_type": "markdown",
      "source": "<h1>My Jupyter Notebook on IBM Watson Studio</h1>",
      "metadata": {}
    },
    {
      "cell_type": "markdown",
      "source": "<h2><strong>CJ Neale</strong></h2>\n<br>\n<p>Marketing Analyst</p>",
      "metadata": {}
    },
    {
      "cell_type": "markdown",
      "source": "<p><i>I am interested in data science because I love making data informed decisions to direct business practices. I am particularly interested in leveraging advanced data practices and technology to foster winning marketing strategies</i></p>",
      "metadata": {}
    },
    {
      "cell_type": "markdown",
      "source": "<h3>The code in the below cell is an example of a simple if/else statement. If the given variables are less than or greater than the defined value, it will print the confirmation</h3>",
      "metadata": {}
    },
    {
      "cell_type": "code",
      "source": "x = 5\ny = 3\n\nif x + y > 7:\n    print(\"x + y is greater than 7\")\nelif x + y < 7:\n    print(\"x + y is less than 7\")",
      "metadata": {
        "trusted": true
      },
      "execution_count": 1,
      "outputs": [
        {
          "name": "stdout",
          "text": "x + y is greater than 7\n",
          "output_type": "stream"
        }
      ]
    },
    {
      "cell_type": "markdown",
      "source": "<hr>\n<ul>\n<li>Data</li>\n<li>Science</li>\n<li>Is</li>\n<li>Great</li>\n</ul>\n<table>\n    <tr>\n        <td><img src=\"data:image/png;base64,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\" style=\"width:500px;\"></img>\n        </td>\n          <td><p><a href=\"\">Check out my Git Hub</A></p>\n        </td>\n    </tr>\n</table>",
      "metadata": {}
    },
    {
      "cell_type": "code",
      "source": "",
      "metadata": {},
      "execution_count": null,
      "outputs": []
    }
  ]
}